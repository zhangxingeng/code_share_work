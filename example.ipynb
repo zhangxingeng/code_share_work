{
 "cells": [
  {
   "cell_type": "code",
   "execution_count": 1,
   "metadata": {},
   "outputs": [],
   "source": [
    "import dotenv\n",
    "import os\n",
    "from neo4j import GraphDatabase, basic_auth\n",
    "\n",
    "dotenv.load_dotenv()\n",
    "host = os.getenv(\"BOLT_HOST\")\n",
    "port = os.getenv(\"BOLT_PORT\")\n",
    "username = os.getenv(\"BOLT_USERNAME\")\n",
    "password = os.getenv(\"BOLT_PASSWORD\")"
   ]
  },
  {
   "cell_type": "code",
   "execution_count": 2,
   "metadata": {},
   "outputs": [],
   "source": [
    "\n",
    "driver = GraphDatabase.driver(f\"bolt://{host}:{port}\",  auth=basic_auth(username, password))"
   ]
  },
  {
   "cell_type": "code",
   "execution_count": 3,
   "metadata": {},
   "outputs": [
    {
     "name": "stdout",
     "output_type": "stream",
     "text": [
      "The Matrix Reloaded\n",
      "The Matrix Revolutions\n",
      "The Devil's Advocate\n",
      "The Replacements\n",
      "Johnny Mnemonic\n",
      "Something's Gotta Give\n",
      "Cloud Atlas\n",
      "V for Vendetta\n"
     ]
    }
   ],
   "source": [
    "cypher_query = '''\n",
    "MATCH (movie:Movie {title:$favorite})<-[:ACTED_IN]-(actor)-[:ACTED_IN]->(rec:Movie)\n",
    " RETURN distinct rec.title as title LIMIT 20\n",
    "'''\n",
    "\n",
    "with driver.session(database=\"neo4j\") as session:\n",
    "    def get_movies(tx): return tx.run(cypher_query, favorite=\"The Matrix\").data()\n",
    "    results = session.execute_read(get_movies)\n",
    "    for record in results:\n",
    "        print(record['title'])\n",
    "driver.close()\n"
   ]
  }
 ],
 "metadata": {
  "kernelspec": {
   "display_name": "python311",
   "language": "python",
   "name": "python3"
  },
  "language_info": {
   "codemirror_mode": {
    "name": "ipython",
    "version": 3
   },
   "file_extension": ".py",
   "mimetype": "text/x-python",
   "name": "python",
   "nbconvert_exporter": "python",
   "pygments_lexer": "ipython3",
   "version": "3.11.10"
  }
 },
 "nbformat": 4,
 "nbformat_minor": 2
}
